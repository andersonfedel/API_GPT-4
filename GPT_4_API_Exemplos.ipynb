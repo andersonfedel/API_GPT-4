{
  "nbformat": 4,
  "nbformat_minor": 0,
  "metadata": {
    "colab": {
      "provenance": [],
      "authorship_tag": "ABX9TyOfiffEF9SSVpqDbjYE/RIX",
      "include_colab_link": true
    },
    "kernelspec": {
      "name": "python3",
      "display_name": "Python 3"
    },
    "language_info": {
      "name": "python"
    }
  },
  "cells": [
    {
      "cell_type": "markdown",
      "metadata": {
        "id": "view-in-github",
        "colab_type": "text"
      },
      "source": [
        "<a href=\"https://colab.research.google.com/github/andersonfedel/API_GPT-4/blob/main/GPT_4_API_Exemplos.ipynb\" target=\"_parent\"><img src=\"https://colab.research.google.com/assets/colab-badge.svg\" alt=\"Open In Colab\"/></a>"
      ]
    },
    {
      "cell_type": "markdown",
      "source": [
        "## Com esse notebook e uma chave API você conseguirá obter respostas do GPT-4 sem necessidade de outra interface.\n"
      ],
      "metadata": {
        "id": "W8p-glZrbDUb"
      }
    },
    {
      "cell_type": "code",
      "source": [
        "!pip install openai\n",
        "!pip install pygments"
      ],
      "metadata": {
        "colab": {
          "base_uri": "https://localhost:8080/"
        },
        "id": "qd7LYw-ws5B8",
        "outputId": "21b5805f-45f4-4fc7-9866-ee4b786193c3"
      },
      "execution_count": 4,
      "outputs": [
        {
          "output_type": "stream",
          "name": "stdout",
          "text": [
            "Looking in indexes: https://pypi.org/simple, https://us-python.pkg.dev/colab-wheels/public/simple/\n",
            "Collecting openai\n",
            "  Downloading openai-0.27.2-py3-none-any.whl (70 kB)\n",
            "\u001b[2K     \u001b[90m━━━━━━━━━━━━━━━━━━━━━━━━━━━━━━━━━━━━━━━━\u001b[0m \u001b[32m70.1/70.1 KB\u001b[0m \u001b[31m4.9 MB/s\u001b[0m eta \u001b[36m0:00:00\u001b[0m\n",
            "\u001b[?25hRequirement already satisfied: requests>=2.20 in /usr/local/lib/python3.9/dist-packages (from openai) (2.27.1)\n",
            "Collecting aiohttp\n",
            "  Downloading aiohttp-3.8.4-cp39-cp39-manylinux_2_17_x86_64.manylinux2014_x86_64.whl (1.0 MB)\n",
            "\u001b[2K     \u001b[90m━━━━━━━━━━━━━━━━━━━━━━━━━━━━━━━━━━━━━━━━\u001b[0m \u001b[32m1.0/1.0 MB\u001b[0m \u001b[31m35.3 MB/s\u001b[0m eta \u001b[36m0:00:00\u001b[0m\n",
            "\u001b[?25hRequirement already satisfied: tqdm in /usr/local/lib/python3.9/dist-packages (from openai) (4.65.0)\n",
            "Requirement already satisfied: charset-normalizer~=2.0.0 in /usr/local/lib/python3.9/dist-packages (from requests>=2.20->openai) (2.0.12)\n",
            "Requirement already satisfied: certifi>=2017.4.17 in /usr/local/lib/python3.9/dist-packages (from requests>=2.20->openai) (2022.12.7)\n",
            "Requirement already satisfied: idna<4,>=2.5 in /usr/local/lib/python3.9/dist-packages (from requests>=2.20->openai) (3.4)\n",
            "Requirement already satisfied: urllib3<1.27,>=1.21.1 in /usr/local/lib/python3.9/dist-packages (from requests>=2.20->openai) (1.26.15)\n",
            "Collecting async-timeout<5.0,>=4.0.0a3\n",
            "  Downloading async_timeout-4.0.2-py3-none-any.whl (5.8 kB)\n",
            "Collecting frozenlist>=1.1.1\n",
            "  Downloading frozenlist-1.3.3-cp39-cp39-manylinux_2_5_x86_64.manylinux1_x86_64.manylinux_2_17_x86_64.manylinux2014_x86_64.whl (158 kB)\n",
            "\u001b[2K     \u001b[90m━━━━━━━━━━━━━━━━━━━━━━━━━━━━━━━━━━━━━━\u001b[0m \u001b[32m158.8/158.8 KB\u001b[0m \u001b[31m24.0 MB/s\u001b[0m eta \u001b[36m0:00:00\u001b[0m\n",
            "\u001b[?25hCollecting yarl<2.0,>=1.0\n",
            "  Downloading yarl-1.8.2-cp39-cp39-manylinux_2_17_x86_64.manylinux2014_x86_64.whl (264 kB)\n",
            "\u001b[2K     \u001b[90m━━━━━━━━━━━━━━━━━━━━━━━━━━━━━━━━━━━━━━\u001b[0m \u001b[32m264.6/264.6 KB\u001b[0m \u001b[31m33.0 MB/s\u001b[0m eta \u001b[36m0:00:00\u001b[0m\n",
            "\u001b[?25hCollecting aiosignal>=1.1.2\n",
            "  Downloading aiosignal-1.3.1-py3-none-any.whl (7.6 kB)\n",
            "Requirement already satisfied: attrs>=17.3.0 in /usr/local/lib/python3.9/dist-packages (from aiohttp->openai) (22.2.0)\n",
            "Collecting multidict<7.0,>=4.5\n",
            "  Downloading multidict-6.0.4-cp39-cp39-manylinux_2_17_x86_64.manylinux2014_x86_64.whl (114 kB)\n",
            "\u001b[2K     \u001b[90m━━━━━━━━━━━━━━━━━━━━━━━━━━━━━━━━━━━━━━\u001b[0m \u001b[32m114.2/114.2 KB\u001b[0m \u001b[31m17.2 MB/s\u001b[0m eta \u001b[36m0:00:00\u001b[0m\n",
            "\u001b[?25hInstalling collected packages: multidict, frozenlist, async-timeout, yarl, aiosignal, aiohttp, openai\n",
            "Successfully installed aiohttp-3.8.4 aiosignal-1.3.1 async-timeout-4.0.2 frozenlist-1.3.3 multidict-6.0.4 openai-0.27.2 yarl-1.8.2\n",
            "Looking in indexes: https://pypi.org/simple, https://us-python.pkg.dev/colab-wheels/public/simple/\n",
            "Requirement already satisfied: pygments in /usr/local/lib/python3.9/dist-packages (2.14.0)\n"
          ]
        }
      ]
    },
    {
      "cell_type": "code",
      "source": [
        "import openai\n",
        "import re\n",
        "from IPython.display import display, Markdown\n",
        "\n",
        "from IPython.display import display, HTML\n",
        "from pygments import highlight\n",
        "from pygments.lexers import PythonLexer\n",
        "from pygments.formatters import HtmlFormatter\n",
        "\n",
        "# API key necessária para acesso ao servidor\n",
        "openai.api_key = \"SUA CHAVE API AQUI\""
      ],
      "metadata": {
        "id": "91Li80wEt8DR"
      },
      "execution_count": 5,
      "outputs": []
    },
    {
      "cell_type": "code",
      "source": [
        "#Monta a requisição para a API do GPT\n",
        "def generate_chat_response(prompt):\n",
        "    response = openai.ChatCompletion.create(\n",
        "        model=\"gpt-4\", # Substitua pelo modelo de chat desejado\n",
        "        messages=[\n",
        "            {\"role\": \"system\", \"content\": \"Você é um assistente de IA útil.\"},\n",
        "            {\"role\": \"user\", \"content\": prompt},\n",
        "        ],\n",
        "        max_tokens=500,\n",
        "        n=1,\n",
        "        stop=None,\n",
        "        temperature=0.7,\n",
        "    )\n",
        "\n",
        "    return response.choices[0].message['content']\n",
        "\n",
        "#Mostra resultados com aparência semelhante à interface web do ChatGPT\n",
        "def display_chat(user_input, assistant_response):\n",
        "    display(Markdown(f\"**Usuário:** {user_input}\"))\n",
        "    display(Markdown(f\"**Assistente:** {assistant_response}\"))\n",
        "\n",
        "#Dá realce de sintaxe a códigos em Python\n",
        "def display_python_code(code):\n",
        "    formatter = HtmlFormatter(style='github-dark')\n",
        "    highlighted_code = highlight(code, PythonLexer(), formatter)\n",
        "    style = f\"<style>{formatter.get_style_defs('.highlight')}</style>\"\n",
        "    display(HTML(style + highlighted_code))    "
      ],
      "metadata": {
        "id": "Ba07MopmAPJm"
      },
      "execution_count": 6,
      "outputs": []
    },
    {
      "cell_type": "markdown",
      "source": [
        "### Exemplo 1:\n",
        "#### Gerando código em Python"
      ],
      "metadata": {
        "id": "yZj8eFIUdXpa"
      }
    },
    {
      "cell_type": "code",
      "source": [
        "prompt = \"Escreva um código em Python que encontra os 100 primeiros números primos\"\n",
        "\n",
        "result = generate_chat_response(prompt)\n",
        "\n",
        "# Exibindo a conversa no estilo Usuárioa / Assistente\n",
        "display_chat(prompt, result)"
      ],
      "metadata": {
        "colab": {
          "base_uri": "https://localhost:8080/",
          "height": 465
        },
        "id": "wI8XOiwncmDO",
        "outputId": "eda85a8b-b0bb-40c0-86e0-ad6f95aabc22"
      },
      "execution_count": 7,
      "outputs": [
        {
          "output_type": "display_data",
          "data": {
            "text/plain": [
              "<IPython.core.display.Markdown object>"
            ],
            "text/markdown": "**Usuário:** Escreva um código em Python que encontra os 100 primeiros números primos"
          },
          "metadata": {}
        },
        {
          "output_type": "display_data",
          "data": {
            "text/plain": [
              "<IPython.core.display.Markdown object>"
            ],
            "text/markdown": "**Assistente:** Para encontrar os 100 primeiros números primos, você pode usar o seguinte código em Python:\n\n```python\ndef is_prime(num):\n    if num < 2:\n        return False\n    for i in range(2, int(num**0.5) + 1):\n        if num % i == 0:\n            return False\n    return True\n\ndef first_n_primes(n):\n    primes = []\n    num = 2\n    while len(primes) < n:\n        if is_prime(num):\n            primes.append(num)\n        num += 1\n    return primes\n\nn = 100\nprimes = first_n_primes(n)\nprint(primes)\n```\n\nEste código define duas funções: `is_prime()` e `first_n_primes()`. A função `is_prime()` verifica se um número é primo, e a função `first_n_primes()` gera os primeiros `n` números primos. No final, o código imprime os 100 primeiros números primos."
          },
          "metadata": {}
        }
      ]
    },
    {
      "cell_type": "markdown",
      "source": [
        "### Podemos imprimir o código em Python com o devido realce de sintaxe"
      ],
      "metadata": {
        "id": "qs7_HZIEazh7"
      }
    },
    {
      "cell_type": "code",
      "source": [
        "code = \"\"\"def is_prime(num):\n",
        "    if num < 2:\n",
        "        return False\n",
        "    for i in range(2, int(num ** 0.5) + 1):\n",
        "        if num % i == 0:\n",
        "            return False\n",
        "    return True\n",
        "\n",
        "def first_n_primes(n):\n",
        "    primes = []\n",
        "    num = 2\n",
        "    while len(primes) < n:\n",
        "        if is_prime(num):\n",
        "            primes.append(num)\n",
        "        num += 1\n",
        "    return primes\n",
        "\n",
        "n = 100\n",
        "primes = first_n_primes(n)\n",
        "print(primes)\n",
        "\"\"\"\n",
        "display_python_code(code)"
      ],
      "metadata": {
        "colab": {
          "base_uri": "https://localhost:8080/",
          "height": 367
        },
        "id": "KJDm80YlTI-E",
        "outputId": "2745c3d3-3e5b-41c3-a97f-376e68142eb7"
      },
      "execution_count": 8,
      "outputs": [
        {
          "output_type": "display_data",
          "data": {
            "text/plain": [
              "<IPython.core.display.HTML object>"
            ],
            "text/html": [
              "<style>pre { line-height: 125%; }\n",
              "td.linenos .normal { color: #6e7681; background-color: #0d1117; padding-left: 5px; padding-right: 5px; }\n",
              "span.linenos { color: #6e7681; background-color: #0d1117; padding-left: 5px; padding-right: 5px; }\n",
              "td.linenos .special { color: #c9d1d9; background-color: #6e7681; padding-left: 5px; padding-right: 5px; }\n",
              "span.linenos.special { color: #c9d1d9; background-color: #6e7681; padding-left: 5px; padding-right: 5px; }\n",
              ".highlight .hll { background-color: #6e7681 }\n",
              ".highlight { background: #0d1117; color: #c9d1d9 }\n",
              ".highlight .c { color: #8b949e; font-style: italic } /* Comment */\n",
              ".highlight .err { color: #f85149 } /* Error */\n",
              ".highlight .esc { color: #c9d1d9 } /* Escape */\n",
              ".highlight .g { color: #c9d1d9 } /* Generic */\n",
              ".highlight .k { color: #ff7b72 } /* Keyword */\n",
              ".highlight .l { color: #a5d6ff } /* Literal */\n",
              ".highlight .n { color: #c9d1d9 } /* Name */\n",
              ".highlight .o { color: #ff7b72; font-weight: bold } /* Operator */\n",
              ".highlight .x { color: #c9d1d9 } /* Other */\n",
              ".highlight .p { color: #c9d1d9 } /* Punctuation */\n",
              ".highlight .ch { color: #8b949e; font-style: italic } /* Comment.Hashbang */\n",
              ".highlight .cm { color: #8b949e; font-style: italic } /* Comment.Multiline */\n",
              ".highlight .cp { color: #8b949e; font-weight: bold; font-style: italic } /* Comment.Preproc */\n",
              ".highlight .cpf { color: #8b949e; font-style: italic } /* Comment.PreprocFile */\n",
              ".highlight .c1 { color: #8b949e; font-style: italic } /* Comment.Single */\n",
              ".highlight .cs { color: #8b949e; font-weight: bold; font-style: italic } /* Comment.Special */\n",
              ".highlight .gd { color: #ffa198; background-color: #490202 } /* Generic.Deleted */\n",
              ".highlight .ge { color: #c9d1d9; font-style: italic } /* Generic.Emph */\n",
              ".highlight .gr { color: #ffa198 } /* Generic.Error */\n",
              ".highlight .gh { color: #79c0ff; font-weight: bold } /* Generic.Heading */\n",
              ".highlight .gi { color: #56d364; background-color: #0f5323 } /* Generic.Inserted */\n",
              ".highlight .go { color: #8b949e } /* Generic.Output */\n",
              ".highlight .gp { color: #8b949e } /* Generic.Prompt */\n",
              ".highlight .gs { color: #c9d1d9; font-weight: bold } /* Generic.Strong */\n",
              ".highlight .gu { color: #79c0ff } /* Generic.Subheading */\n",
              ".highlight .gt { color: #ff7b72 } /* Generic.Traceback */\n",
              ".highlight .g-Underline { color: #c9d1d9; text-decoration: underline } /* Generic.Underline */\n",
              ".highlight .kc { color: #79c0ff } /* Keyword.Constant */\n",
              ".highlight .kd { color: #ff7b72 } /* Keyword.Declaration */\n",
              ".highlight .kn { color: #ff7b72 } /* Keyword.Namespace */\n",
              ".highlight .kp { color: #79c0ff } /* Keyword.Pseudo */\n",
              ".highlight .kr { color: #ff7b72 } /* Keyword.Reserved */\n",
              ".highlight .kt { color: #ff7b72 } /* Keyword.Type */\n",
              ".highlight .ld { color: #79c0ff } /* Literal.Date */\n",
              ".highlight .m { color: #a5d6ff } /* Literal.Number */\n",
              ".highlight .s { color: #a5d6ff } /* Literal.String */\n",
              ".highlight .na { color: #c9d1d9 } /* Name.Attribute */\n",
              ".highlight .nb { color: #c9d1d9 } /* Name.Builtin */\n",
              ".highlight .nc { color: #f0883e; font-weight: bold } /* Name.Class */\n",
              ".highlight .no { color: #79c0ff; font-weight: bold } /* Name.Constant */\n",
              ".highlight .nd { color: #d2a8ff; font-weight: bold } /* Name.Decorator */\n",
              ".highlight .ni { color: #ffa657 } /* Name.Entity */\n",
              ".highlight .ne { color: #f0883e; font-weight: bold } /* Name.Exception */\n",
              ".highlight .nf { color: #d2a8ff; font-weight: bold } /* Name.Function */\n",
              ".highlight .nl { color: #79c0ff; font-weight: bold } /* Name.Label */\n",
              ".highlight .nn { color: #ff7b72 } /* Name.Namespace */\n",
              ".highlight .nx { color: #c9d1d9 } /* Name.Other */\n",
              ".highlight .py { color: #79c0ff } /* Name.Property */\n",
              ".highlight .nt { color: #7ee787 } /* Name.Tag */\n",
              ".highlight .nv { color: #79c0ff } /* Name.Variable */\n",
              ".highlight .ow { color: #ff7b72; font-weight: bold } /* Operator.Word */\n",
              ".highlight .pm { color: #c9d1d9 } /* Punctuation.Marker */\n",
              ".highlight .w { color: #6e7681 } /* Text.Whitespace */\n",
              ".highlight .mb { color: #a5d6ff } /* Literal.Number.Bin */\n",
              ".highlight .mf { color: #a5d6ff } /* Literal.Number.Float */\n",
              ".highlight .mh { color: #a5d6ff } /* Literal.Number.Hex */\n",
              ".highlight .mi { color: #a5d6ff } /* Literal.Number.Integer */\n",
              ".highlight .mo { color: #a5d6ff } /* Literal.Number.Oct */\n",
              ".highlight .sa { color: #79c0ff } /* Literal.String.Affix */\n",
              ".highlight .sb { color: #a5d6ff } /* Literal.String.Backtick */\n",
              ".highlight .sc { color: #a5d6ff } /* Literal.String.Char */\n",
              ".highlight .dl { color: #79c0ff } /* Literal.String.Delimiter */\n",
              ".highlight .sd { color: #a5d6ff } /* Literal.String.Doc */\n",
              ".highlight .s2 { color: #a5d6ff } /* Literal.String.Double */\n",
              ".highlight .se { color: #79c0ff } /* Literal.String.Escape */\n",
              ".highlight .sh { color: #79c0ff } /* Literal.String.Heredoc */\n",
              ".highlight .si { color: #a5d6ff } /* Literal.String.Interpol */\n",
              ".highlight .sx { color: #a5d6ff } /* Literal.String.Other */\n",
              ".highlight .sr { color: #79c0ff } /* Literal.String.Regex */\n",
              ".highlight .s1 { color: #a5d6ff } /* Literal.String.Single */\n",
              ".highlight .ss { color: #a5d6ff } /* Literal.String.Symbol */\n",
              ".highlight .bp { color: #c9d1d9 } /* Name.Builtin.Pseudo */\n",
              ".highlight .fm { color: #d2a8ff; font-weight: bold } /* Name.Function.Magic */\n",
              ".highlight .vc { color: #79c0ff } /* Name.Variable.Class */\n",
              ".highlight .vg { color: #79c0ff } /* Name.Variable.Global */\n",
              ".highlight .vi { color: #79c0ff } /* Name.Variable.Instance */\n",
              ".highlight .vm { color: #79c0ff } /* Name.Variable.Magic */\n",
              ".highlight .il { color: #a5d6ff } /* Literal.Number.Integer.Long */</style><div class=\"highlight\"><pre><span></span><span class=\"k\">def</span> <span class=\"nf\">is_prime</span><span class=\"p\">(</span><span class=\"n\">num</span><span class=\"p\">):</span>\n",
              "    <span class=\"k\">if</span> <span class=\"n\">num</span> <span class=\"o\">&lt;</span> <span class=\"mi\">2</span><span class=\"p\">:</span>\n",
              "        <span class=\"k\">return</span> <span class=\"kc\">False</span>\n",
              "    <span class=\"k\">for</span> <span class=\"n\">i</span> <span class=\"ow\">in</span> <span class=\"nb\">range</span><span class=\"p\">(</span><span class=\"mi\">2</span><span class=\"p\">,</span> <span class=\"nb\">int</span><span class=\"p\">(</span><span class=\"n\">num</span> <span class=\"o\">**</span> <span class=\"mf\">0.5</span><span class=\"p\">)</span> <span class=\"o\">+</span> <span class=\"mi\">1</span><span class=\"p\">):</span>\n",
              "        <span class=\"k\">if</span> <span class=\"n\">num</span> <span class=\"o\">%</span> <span class=\"n\">i</span> <span class=\"o\">==</span> <span class=\"mi\">0</span><span class=\"p\">:</span>\n",
              "            <span class=\"k\">return</span> <span class=\"kc\">False</span>\n",
              "    <span class=\"k\">return</span> <span class=\"kc\">True</span>\n",
              "\n",
              "<span class=\"k\">def</span> <span class=\"nf\">first_n_primes</span><span class=\"p\">(</span><span class=\"n\">n</span><span class=\"p\">):</span>\n",
              "    <span class=\"n\">primes</span> <span class=\"o\">=</span> <span class=\"p\">[]</span>\n",
              "    <span class=\"n\">num</span> <span class=\"o\">=</span> <span class=\"mi\">2</span>\n",
              "    <span class=\"k\">while</span> <span class=\"nb\">len</span><span class=\"p\">(</span><span class=\"n\">primes</span><span class=\"p\">)</span> <span class=\"o\">&lt;</span> <span class=\"n\">n</span><span class=\"p\">:</span>\n",
              "        <span class=\"k\">if</span> <span class=\"n\">is_prime</span><span class=\"p\">(</span><span class=\"n\">num</span><span class=\"p\">):</span>\n",
              "            <span class=\"n\">primes</span><span class=\"o\">.</span><span class=\"n\">append</span><span class=\"p\">(</span><span class=\"n\">num</span><span class=\"p\">)</span>\n",
              "        <span class=\"n\">num</span> <span class=\"o\">+=</span> <span class=\"mi\">1</span>\n",
              "    <span class=\"k\">return</span> <span class=\"n\">primes</span>\n",
              "\n",
              "<span class=\"n\">n</span> <span class=\"o\">=</span> <span class=\"mi\">100</span>\n",
              "<span class=\"n\">primes</span> <span class=\"o\">=</span> <span class=\"n\">first_n_primes</span><span class=\"p\">(</span><span class=\"n\">n</span><span class=\"p\">)</span>\n",
              "<span class=\"nb\">print</span><span class=\"p\">(</span><span class=\"n\">primes</span><span class=\"p\">)</span>\n",
              "</pre></div>\n"
            ]
          },
          "metadata": {}
        }
      ]
    },
    {
      "cell_type": "code",
      "source": [
        "def is_prime(num):\n",
        "    if num < 2:\n",
        "        return False\n",
        "    for i in range(2, int(num ** 0.5) + 1):\n",
        "        if num % i == 0:\n",
        "            return False\n",
        "    return True\n",
        "\n",
        "def first_n_primes(n):\n",
        "    primes = []\n",
        "    num = 2\n",
        "    while len(primes) < n:\n",
        "        if is_prime(num):\n",
        "            primes.append(num)\n",
        "        num += 1\n",
        "    return primes\n",
        "\n",
        "n = 100\n",
        "primes = first_n_primes(n)\n",
        "print(primes)"
      ],
      "metadata": {
        "colab": {
          "base_uri": "https://localhost:8080/"
        },
        "id": "4SB85kN1cWCT",
        "outputId": "2997f9db-8198-4a79-a878-7fda1ad18661"
      },
      "execution_count": 9,
      "outputs": [
        {
          "output_type": "stream",
          "name": "stdout",
          "text": [
            "[2, 3, 5, 7, 11, 13, 17, 19, 23, 29, 31, 37, 41, 43, 47, 53, 59, 61, 67, 71, 73, 79, 83, 89, 97, 101, 103, 107, 109, 113, 127, 131, 137, 139, 149, 151, 157, 163, 167, 173, 179, 181, 191, 193, 197, 199, 211, 223, 227, 229, 233, 239, 241, 251, 257, 263, 269, 271, 277, 281, 283, 293, 307, 311, 313, 317, 331, 337, 347, 349, 353, 359, 367, 373, 379, 383, 389, 397, 401, 409, 419, 421, 431, 433, 439, 443, 449, 457, 461, 463, 467, 479, 487, 491, 499, 503, 509, 521, 523, 541]\n"
          ]
        }
      ]
    },
    {
      "cell_type": "markdown",
      "source": [
        "### Exemplo 2:\n",
        "#### Interpretando uma piada"
      ],
      "metadata": {
        "id": "b03dFMFuddsW"
      }
    },
    {
      "cell_type": "code",
      "source": [
        "prompt = \"\"\"Qual a graça dessa piada:\n",
        "\n",
        "Qual a diferença entre o lago e a padaria?\n",
        "No lago, há sapinho. Na padaria, assa pão.\n",
        "\n",
        "\"\"\"\n",
        "result = generate_chat_response(prompt)\n",
        "\n",
        "# Exibindo a conversa no estilo Usuárioa / Assistente\n",
        "display_chat(prompt, result)"
      ],
      "metadata": {
        "colab": {
          "base_uri": "https://localhost:8080/",
          "height": 145
        },
        "id": "oh-GpknmciFb",
        "outputId": "56e1f7e4-94c9-43d3-f14e-0d86c27c74c7"
      },
      "execution_count": 10,
      "outputs": [
        {
          "output_type": "display_data",
          "data": {
            "text/plain": [
              "<IPython.core.display.Markdown object>"
            ],
            "text/markdown": "**Usuário:** Qual a graça dessa piada:\n\nQual a diferença entre o lago e a padaria?\nNo lago, há sapinho. Na padaria, assa pão.\n\n"
          },
          "metadata": {}
        },
        {
          "output_type": "display_data",
          "data": {
            "text/plain": [
              "<IPython.core.display.Markdown object>"
            ],
            "text/markdown": "**Assistente:** A graça dessa piada está no jogo de palavras e na quebra de expectativa. A pergunta sugere que a resposta será uma comparação direta entre um lago e uma padaria, mas a resposta usa uma brincadeira com as palavras \"sapinho\" e \"assa pão\". \"Sapinho\" é um termo informal para designar pequenos sapos, enquanto \"assa pão\" é uma forma de dizer que o pão é assado na padaria. A graça vem do fato de que a resposta não é uma comparação lógica e literal, mas sim uma associação inesperada e engraçada entre as palavras que soam de forma semelhante."
          },
          "metadata": {}
        }
      ]
    },
    {
      "cell_type": "markdown",
      "source": [
        "### Exemplo 3:\n",
        "#### Análise de imagem pela URL Obs.: Ele apenas identifica o texto no endereço. "
      ],
      "metadata": {
        "id": "jhvDw2ABeAl5"
      }
    },
    {
      "cell_type": "code",
      "source": [
        "prompt = \"\"\"O que essa imagem mostra?\n",
        "\n",
        "https://static.escolakids.uol.com.br/2022/01/1-ornitorrinco.jpg\n",
        "\n",
        "\"\"\"\n",
        "result = generate_chat_response(prompt)\n",
        "\n",
        "# Exibindo a conversa no estilo Usuárioa / Assistente\n",
        "display_chat(prompt, result)"
      ],
      "metadata": {
        "colab": {
          "base_uri": "https://localhost:8080/",
          "height": 128
        },
        "id": "VOd-_rA6d_3B",
        "outputId": "0174d465-ecaf-4c3b-a84f-20d55501ef4c"
      },
      "execution_count": 12,
      "outputs": [
        {
          "output_type": "display_data",
          "data": {
            "text/plain": [
              "<IPython.core.display.Markdown object>"
            ],
            "text/markdown": "**Usuário:** O que essa imagem mostra?\n\nhttps://static.escolakids.uol.com.br/2022/01/1-ornitorrinco.jpg\n"
          },
          "metadata": {}
        },
        {
          "output_type": "display_data",
          "data": {
            "text/plain": [
              "<IPython.core.display.Markdown object>"
            ],
            "text/markdown": "**Assistente:** Como um assistente de IA baseado em texto, não consigo visualizar diretamente imagens. No entanto, com base na URL, posso inferir que a imagem é de um ornitorrinco. O ornitorrinco é um mamífero semiaquático nativo da Austrália e Tasmânia, conhecido por sua aparência distinta com bico de pato, corpo de lontra e cauda de castor. Ele é um dos poucos mamíferos monotremados, o que significa que põe ovos em vez de dar à luz filhotes vivos."
          },
          "metadata": {}
        }
      ]
    },
    {
      "cell_type": "markdown",
      "source": [
        "### Célula para interação ao modelo ChatGPT. Depois da célula iniciada, digite \"exit\" para sair. "
      ],
      "metadata": {
        "id": "YqGUvftLjs48"
      }
    },
    {
      "cell_type": "code",
      "source": [
        "#Célula com While Loop para interação no modelo Chat. Digite \"exit\" para sair.\n",
        "while True:\n",
        "  prompt = input(\"Faça uma pergunta ao GPT-4: \\n\")\n",
        "  if prompt.lower() == \"exit\":\n",
        "    break\n",
        "  else:\n",
        "    pass\n",
        "  result = generate_chat_response(prompt)\n",
        "\n",
        "  # Exibindo a conversa no estilo do site da OpenAI\n",
        "  display_chat(prompt, result)"
      ],
      "metadata": {
        "colab": {
          "base_uri": "https://localhost:8080/",
          "height": 316
        },
        "id": "rPBRIlT_rxbn",
        "outputId": "2ab7e9d9-2123-41d5-a03b-4be28943bd46"
      },
      "execution_count": 22,
      "outputs": [
        {
          "name": "stdout",
          "output_type": "stream",
          "text": [
            "Faça uma pergunta ao GPT-4: \n",
            "Descreva em no máximo 200 palavras um resumo para a obra \" Paraíso perdido de John Milton\"\n"
          ]
        },
        {
          "output_type": "display_data",
          "data": {
            "text/plain": [
              "<IPython.core.display.Markdown object>"
            ],
            "text/markdown": "**Usuário:** Descreva em no máximo 200 palavras um resumo para a obra \" Paraíso perdido de John Milton\""
          },
          "metadata": {}
        },
        {
          "output_type": "display_data",
          "data": {
            "text/plain": [
              "<IPython.core.display.Markdown object>"
            ],
            "text/markdown": "**Assistente:** \"Paraíso Perdido\" é um épico poema em versos brancos, escrito pelo autor inglês John Milton no século XVII. A obra, composta por 12 livros, narra a história da queda da humanidade e a rebelião de Satanás contra Deus. A trama se desenrola em três cenários principais: o Céu, o Inferno e o Jardim do Éden.\n\nO poema começa com Satanás e seus aliados, derrotados em sua guerra contra Deus, exilados no Inferno. Lá, eles planejam sua vingança, visando destruir a criação mais amada de Deus - a humanidade. Satanás assume a forma de uma serpente e engana Adão e Eva no Jardim do Éden, persuadindo-os a comer o fruto proibido da Árvore do Conhecimento do Bem e do Mal.\n\nA obra aborda temas como livre-arbítrio, tentação, culpa e redenção. Através dos personagens de Adão, Eva e Satanás, Milton explora a complexa natureza humana, suas fraquezas e a busca pela graça divina. A linguagem poética e o estilo grandioso do poema são marcantes, tornando-se uma das obras-primas da literatura inglesa e influenciando gerações de escritores.\n\nEm última análise, \"Paraíso Perdido\" é um conto sobre a busca do homem pela verdade, a luta entre o bem e o mal e a inevitável perda da inocência. A obra nos convida a refletir sobre o poder do arrependimento e a redenção através da fé, oferecendo esperança mesmo diante das adversidades."
          },
          "metadata": {}
        },
        {
          "name": "stdout",
          "output_type": "stream",
          "text": [
            "Faça uma pergunta ao GPT-4: \n",
            "exit\n"
          ]
        }
      ]
    }
  ]
}